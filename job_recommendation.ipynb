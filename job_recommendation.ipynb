{
 "cells": [
  {
   "cell_type": "code",
   "execution_count": 3,
   "id": "518168d8-3f8d-40cc-8c6f-202ed71a6356",
   "metadata": {},
   "outputs": [],
   "source": [
    "import pandas as pd\n"
   ]
  },
  {
   "cell_type": "code",
   "execution_count": 4,
   "id": "0b856cb3-f41a-4ae6-9b51-b6045e9f96c4",
   "metadata": {},
   "outputs": [
    {
     "data": {
      "text/html": [
       "<div>\n",
       "<style scoped>\n",
       "    .dataframe tbody tr th:only-of-type {\n",
       "        vertical-align: middle;\n",
       "    }\n",
       "\n",
       "    .dataframe tbody tr th {\n",
       "        vertical-align: top;\n",
       "    }\n",
       "\n",
       "    .dataframe thead th {\n",
       "        text-align: right;\n",
       "    }\n",
       "</style>\n",
       "<table border=\"1\" class=\"dataframe\">\n",
       "  <thead>\n",
       "    <tr style=\"text-align: right;\">\n",
       "      <th></th>\n",
       "      <th>Uniq Id</th>\n",
       "      <th>Crawl Timestamp</th>\n",
       "      <th>Job Title</th>\n",
       "      <th>Job Salary</th>\n",
       "      <th>Job Experience Required</th>\n",
       "      <th>Key Skills</th>\n",
       "      <th>Role Category</th>\n",
       "      <th>Location</th>\n",
       "      <th>Functional Area</th>\n",
       "      <th>Industry</th>\n",
       "      <th>Role</th>\n",
       "    </tr>\n",
       "  </thead>\n",
       "  <tbody>\n",
       "    <tr>\n",
       "      <th>0</th>\n",
       "      <td>9be62c49a0b7ebe982a4af1edaa7bc5f</td>\n",
       "      <td>2019-07-05 01:46:07 +0000</td>\n",
       "      <td>Digital Media Planner</td>\n",
       "      <td>Not Disclosed by Recruiter</td>\n",
       "      <td>5 - 10 yrs</td>\n",
       "      <td>Media Planning| Digital Media</td>\n",
       "      <td>Advertising</td>\n",
       "      <td>Mumbai</td>\n",
       "      <td>Marketing , Advertising , MR , PR , Media Plan...</td>\n",
       "      <td>Advertising, PR, MR, Event Management</td>\n",
       "      <td>Media Planning Executive/Manager</td>\n",
       "    </tr>\n",
       "  </tbody>\n",
       "</table>\n",
       "</div>"
      ],
      "text/plain": [
       "                            Uniq Id            Crawl Timestamp  \\\n",
       "0  9be62c49a0b7ebe982a4af1edaa7bc5f  2019-07-05 01:46:07 +0000   \n",
       "\n",
       "                Job Title                    Job Salary  \\\n",
       "0   Digital Media Planner   Not Disclosed by Recruiter    \n",
       "\n",
       "  Job Experience Required                      Key Skills Role Category  \\\n",
       "0              5 - 10 yrs   Media Planning| Digital Media   Advertising   \n",
       "\n",
       "  Location                                    Functional Area  \\\n",
       "0   Mumbai  Marketing , Advertising , MR , PR , Media Plan...   \n",
       "\n",
       "                                Industry                              Role  \n",
       "0  Advertising, PR, MR, Event Management  Media Planning Executive/Manager  "
      ]
     },
     "execution_count": 4,
     "metadata": {},
     "output_type": "execute_result"
    }
   ],
   "source": [
    "ds=pd.read_csv(r'marketing_sample_for_naukri_com-jobs__20190701_20190830__30k_data.csv')\n",
    "ds.head(1)"
   ]
  },
  {
   "cell_type": "code",
   "execution_count": 9,
   "id": "07d9d8eb-082f-4b8a-b9e5-511f228dd2dd",
   "metadata": {},
   "outputs": [
    {
     "data": {
      "text/plain": [
       "Index(['Uniq Id', 'Crawl Timestamp', 'Job Title', 'Job Salary',\n",
       "       'Job Experience Required', 'Key Skills', 'Role Category', 'Location',\n",
       "       'Functional Area', 'Industry', 'Role'],\n",
       "      dtype='object')"
      ]
     },
     "execution_count": 9,
     "metadata": {},
     "output_type": "execute_result"
    }
   ],
   "source": [
    "ds.columns"
   ]
  },
  {
   "cell_type": "code",
   "execution_count": 10,
   "id": "e5468cb8-9420-4957-9b66-63e0278a2a8e",
   "metadata": {},
   "outputs": [],
   "source": [
    "ds.drop(['Uniq Id','Crawl Timestamp'],axis=1,inplace=True)"
   ]
  },
  {
   "cell_type": "code",
   "execution_count": 11,
   "id": "bf3eaf3f-a746-46f0-8310-d95f16b51681",
   "metadata": {},
   "outputs": [
    {
     "name": "stdout",
     "output_type": "stream",
     "text": [
      "<class 'pandas.core.frame.DataFrame'>\n",
      "RangeIndex: 30000 entries, 0 to 29999\n",
      "Data columns (total 9 columns):\n",
      " #   Column                   Non-Null Count  Dtype \n",
      "---  ------                   --------------  ----- \n",
      " 0   Job Title                29425 non-null  object\n",
      " 1   Job Salary               29950 non-null  object\n",
      " 2   Job Experience Required  29427 non-null  object\n",
      " 3   Key Skills               28729 non-null  object\n",
      " 4   Role Category            27695 non-null  object\n",
      " 5   Location                 29423 non-null  object\n",
      " 6   Functional Area          29427 non-null  object\n",
      " 7   Industry                 29427 non-null  object\n",
      " 8   Role                     29099 non-null  object\n",
      "dtypes: object(9)\n",
      "memory usage: 2.1+ MB\n"
     ]
    }
   ],
   "source": [
    "ds.info()"
   ]
  },
  {
   "cell_type": "code",
   "execution_count": 12,
   "id": "923335c1-6786-426e-b069-f2db4337421b",
   "metadata": {},
   "outputs": [
    {
     "data": {
      "text/plain": [
       "' Security Analysis| Software Development Life Cycle| Security Testing| Cyber Security| Application Security| New Projects| Code Review| Project Development| Software Solutions| Security Services'"
      ]
     },
     "execution_count": 12,
     "metadata": {},
     "output_type": "execute_result"
    }
   ],
   "source": [
    "ds['Key Skills'][29998]"
   ]
  },
  {
   "cell_type": "code",
   "execution_count": 13,
   "id": "0ccf2f59-f183-4616-8bf6-8a3aa22f534b",
   "metadata": {},
   "outputs": [
    {
     "data": {
      "text/plain": [
       "(30000, 9)"
      ]
     },
     "execution_count": 13,
     "metadata": {},
     "output_type": "execute_result"
    }
   ],
   "source": [
    "ds.shape"
   ]
  },
  {
   "cell_type": "code",
   "execution_count": 14,
   "id": "ee401025-a567-4124-8b0d-fb0c4a84044b",
   "metadata": {},
   "outputs": [],
   "source": [
    "ds['Skills']=ds['Key Skills'].str.split(\"|\")"
   ]
  },
  {
   "cell_type": "code",
   "execution_count": 15,
   "id": "afe7fe20-a355-44e4-bc4f-c8a8ab8b5c63",
   "metadata": {},
   "outputs": [
    {
     "data": {
      "text/html": [
       "<div>\n",
       "<style scoped>\n",
       "    .dataframe tbody tr th:only-of-type {\n",
       "        vertical-align: middle;\n",
       "    }\n",
       "\n",
       "    .dataframe tbody tr th {\n",
       "        vertical-align: top;\n",
       "    }\n",
       "\n",
       "    .dataframe thead th {\n",
       "        text-align: right;\n",
       "    }\n",
       "</style>\n",
       "<table border=\"1\" class=\"dataframe\">\n",
       "  <thead>\n",
       "    <tr style=\"text-align: right;\">\n",
       "      <th></th>\n",
       "      <th>Job Title</th>\n",
       "      <th>Job Salary</th>\n",
       "      <th>Job Experience Required</th>\n",
       "      <th>Key Skills</th>\n",
       "      <th>Role Category</th>\n",
       "      <th>Location</th>\n",
       "      <th>Functional Area</th>\n",
       "      <th>Industry</th>\n",
       "      <th>Role</th>\n",
       "      <th>Skills</th>\n",
       "    </tr>\n",
       "  </thead>\n",
       "  <tbody>\n",
       "    <tr>\n",
       "      <th>0</th>\n",
       "      <td>Digital Media Planner</td>\n",
       "      <td>Not Disclosed by Recruiter</td>\n",
       "      <td>5 - 10 yrs</td>\n",
       "      <td>Media Planning| Digital Media</td>\n",
       "      <td>Advertising</td>\n",
       "      <td>Mumbai</td>\n",
       "      <td>Marketing , Advertising , MR , PR , Media Plan...</td>\n",
       "      <td>Advertising, PR, MR, Event Management</td>\n",
       "      <td>Media Planning Executive/Manager</td>\n",
       "      <td>[ Media Planning,  Digital Media]</td>\n",
       "    </tr>\n",
       "  </tbody>\n",
       "</table>\n",
       "</div>"
      ],
      "text/plain": [
       "                Job Title                    Job Salary  \\\n",
       "0   Digital Media Planner   Not Disclosed by Recruiter    \n",
       "\n",
       "  Job Experience Required                      Key Skills Role Category  \\\n",
       "0              5 - 10 yrs   Media Planning| Digital Media   Advertising   \n",
       "\n",
       "  Location                                    Functional Area  \\\n",
       "0   Mumbai  Marketing , Advertising , MR , PR , Media Plan...   \n",
       "\n",
       "                                Industry                              Role  \\\n",
       "0  Advertising, PR, MR, Event Management  Media Planning Executive/Manager   \n",
       "\n",
       "                              Skills  \n",
       "0  [ Media Planning,  Digital Media]  "
      ]
     },
     "execution_count": 15,
     "metadata": {},
     "output_type": "execute_result"
    }
   ],
   "source": [
    "ds.head(1)"
   ]
  },
  {
   "cell_type": "code",
   "execution_count": 16,
   "id": "c56a7419-be81-458b-bd6a-8cce8dbcd893",
   "metadata": {},
   "outputs": [
    {
     "data": {
      "text/plain": [
       "Index(['Job Title', 'Job Salary', 'Job Experience Required', 'Key Skills',\n",
       "       'Role Category', 'Location', 'Functional Area', 'Industry', 'Role',\n",
       "       'Skills'],\n",
       "      dtype='object')"
      ]
     },
     "execution_count": 16,
     "metadata": {},
     "output_type": "execute_result"
    }
   ],
   "source": [
    "ds.columns"
   ]
  },
  {
   "cell_type": "code",
   "execution_count": 17,
   "id": "0556e786-91c7-4078-ae76-c524e307ee40",
   "metadata": {},
   "outputs": [
    {
     "data": {
      "text/plain": [
       "Job Title                   575\n",
       "Job Salary                   50\n",
       "Job Experience Required     573\n",
       "Key Skills                 1271\n",
       "Role Category              2305\n",
       "Location                    577\n",
       "Functional Area             573\n",
       "Industry                    573\n",
       "Role                        901\n",
       "Skills                     1271\n",
       "dtype: int64"
      ]
     },
     "execution_count": 17,
     "metadata": {},
     "output_type": "execute_result"
    }
   ],
   "source": [
    "ds.isnull().sum()"
   ]
  },
  {
   "cell_type": "code",
   "execution_count": 18,
   "id": "efb4af0a-94f8-4e46-95dc-af1347a1d853",
   "metadata": {},
   "outputs": [
    {
     "data": {
      "text/plain": [
       "Job Title                   575\n",
       "Job Salary                   50\n",
       "Job Experience Required     573\n",
       "Key Skills                 1271\n",
       "Role Category              2305\n",
       "Location                    577\n",
       "Functional Area             573\n",
       "Industry                    573\n",
       "Role                        901\n",
       "Skills                     1271\n",
       "dtype: int64"
      ]
     },
     "execution_count": 18,
     "metadata": {},
     "output_type": "execute_result"
    }
   ],
   "source": [
    "ds.isnull().sum()"
   ]
  },
  {
   "cell_type": "code",
   "execution_count": 19,
   "id": "7d4953d0-fef7-4f3d-b499-bd2eb92f29f9",
   "metadata": {},
   "outputs": [
    {
     "data": {
      "text/plain": [
       "Index(['Job Title', 'Job Salary', 'Job Experience Required', 'Key Skills',\n",
       "       'Role Category', 'Location', 'Functional Area', 'Industry', 'Role',\n",
       "       'Skills'],\n",
       "      dtype='object')"
      ]
     },
     "execution_count": 19,
     "metadata": {},
     "output_type": "execute_result"
    }
   ],
   "source": [
    "ds.columns"
   ]
  },
  {
   "cell_type": "code",
   "execution_count": 20,
   "id": "3a015e21-8508-487c-9145-c3268441d7a8",
   "metadata": {},
   "outputs": [],
   "source": [
    "ds.dropna(subset=['Job Title', 'Industry','Skills','Role'], inplace=True)  # Drops rows where these columns have NaN\n"
   ]
  },
  {
   "cell_type": "code",
   "execution_count": 21,
   "id": "05cc45e9-1975-4feb-9e4a-6a39f853b4e0",
   "metadata": {},
   "outputs": [
    {
     "data": {
      "text/plain": [
       "Index(['Job Title', 'Job Salary', 'Job Experience Required', 'Key Skills',\n",
       "       'Role Category', 'Location', 'Functional Area', 'Industry', 'Role',\n",
       "       'Skills'],\n",
       "      dtype='object')"
      ]
     },
     "execution_count": 21,
     "metadata": {},
     "output_type": "execute_result"
    }
   ],
   "source": [
    "ds.columns"
   ]
  },
  {
   "cell_type": "code",
   "execution_count": 22,
   "id": "13d7fe3d-ac13-4c50-8ae4-865a86aedeea",
   "metadata": {},
   "outputs": [
    {
     "data": {
      "text/plain": [
       "Job Title                     0\n",
       "Job Salary                    0\n",
       "Job Experience Required       0\n",
       "Key Skills                    0\n",
       "Role Category              1362\n",
       "Location                      0\n",
       "Functional Area               0\n",
       "Industry                      0\n",
       "Role                          0\n",
       "Skills                        0\n",
       "dtype: int64"
      ]
     },
     "execution_count": 22,
     "metadata": {},
     "output_type": "execute_result"
    }
   ],
   "source": [
    "ds.isnull().sum()"
   ]
  },
  {
   "cell_type": "code",
   "execution_count": null,
   "id": "c03aff46-144b-4227-9a05-aa460c694f44",
   "metadata": {},
   "outputs": [],
   "source": []
  },
  {
   "cell_type": "code",
   "execution_count": 5,
   "id": "87606b4b-3a7e-4956-a1d2-3f3f4125ef7e",
   "metadata": {},
   "outputs": [],
   "source": [
    "\n",
    "from sklearn.feature_extraction.text import TfidfVectorizer\n",
    "from sklearn.metrics.pairwise import cosine_similarity\n",
    "\n"
   ]
  },
  {
   "cell_type": "code",
   "execution_count": 28,
   "id": "38eb30e1-5298-414e-ada2-bd25ea6e1b45",
   "metadata": {},
   "outputs": [],
   "source": [
    "ds.to_csv(r'C:\\Users\\Asus\\Contacts\\Desktop\\data sci projects\\career path recommendation\\processed_naukri.csv')"
   ]
  },
  {
   "cell_type": "code",
   "execution_count": 6,
   "id": "aed72714-7810-428b-9bd6-57311489fef2",
   "metadata": {},
   "outputs": [],
   "source": [
    "mod=pd.read_csv(r'processed_naukri.csv')"
   ]
  },
  {
   "cell_type": "code",
   "execution_count": 31,
   "id": "f2ce5a13-d56c-4318-8d25-3fe62d340434",
   "metadata": {},
   "outputs": [
    {
     "data": {
      "text/plain": [
       "(28367, 12)"
      ]
     },
     "execution_count": 31,
     "metadata": {},
     "output_type": "execute_result"
    }
   ],
   "source": [
    "mod.shape"
   ]
  },
  {
   "cell_type": "code",
   "execution_count": 8,
   "id": "5c14acad-b7de-46cb-b3b2-0862e1d64169",
   "metadata": {},
   "outputs": [],
   "source": [
    "def clean_skills(skills):\n",
    "    \"\"\"\n",
    "    Cleans and standardizes skills format whether input is a string, list, or set.\n",
    "    \"\"\"\n",
    "    cleaned_skills = set()\n",
    "    \n",
    "    try:\n",
    "        # Handle different input types\n",
    "        if isinstance(skills, str):\n",
    "            # If it's a string that looks like a list\n",
    "            if skills.strip().startswith('[') and skills.strip().endswith(']'):\n",
    "                try:\n",
    "                    # Try to safely evaluate the string as a list\n",
    "                    skills_list = eval(skills)\n",
    "                    if isinstance(skills_list, list):\n",
    "                        skills = skills_list\n",
    "                    else:\n",
    "                        skills = skills.strip('[]').split(',')\n",
    "                except:\n",
    "                    skills = skills.strip('[]').split(',')\n",
    "            else:\n",
    "                # Normal comma-separated string\n",
    "                skills = skills.split(',')\n",
    "        \n",
    "        # Convert to list if it's a set\n",
    "        if isinstance(skills, set):\n",
    "            skills = list(skills)\n",
    "            \n",
    "        # Ensure we're working with a list\n",
    "        if not isinstance(skills, list):\n",
    "            skills = [str(skills)]\n",
    "        \n",
    "        # Clean each skill\n",
    "        for skill in skills:\n",
    "            if isinstance(skill, (str, int, float)):\n",
    "                cleaned_skill = str(skill).strip().strip(\"'\").strip('\"').lower()\n",
    "                if cleaned_skill:\n",
    "                    cleaned_skills.add(cleaned_skill)\n",
    "                    \n",
    "        return cleaned_skills\n",
    "        \n",
    "    except Exception as e:\n",
    "        print(f\"Error in cleaning skills: {str(e)}\")\n",
    "        return set()\n"
   ]
  },
  {
   "cell_type": "code",
   "execution_count": 28,
   "id": "d8cc6fce-0f27-4232-9375-319dd19d9ebd",
   "metadata": {},
   "outputs": [],
   "source": [
    "def calculate_skill_gap(job_skills, user_skills):\n",
    "    \"\"\"\n",
    "    Calculates missing skills using fuzzy matching and word embeddings principles.\n",
    "    \n",
    "    Args:\n",
    "        job_skills (set): Required skills for the job\n",
    "        user_skills (set): User's current skills\n",
    "    \n",
    "    Returns:\n",
    "        set: Missing skills that the user needs\n",
    "    \"\"\"\n",
    "    missing_skills = set()\n",
    "    matched_skills = set()\n",
    "    \n",
    "    # Convert sets to lowercase for comparison\n",
    "    job_skills = {skill.lower() for skill in job_skills}\n",
    "    user_skills = {skill.lower() for skill in user_skills}\n",
    "    \n",
    "    for job_skill in job_skills:\n",
    "        skill_found = False\n",
    "        \n",
    "        # Check for exact matches first\n",
    "        if job_skill in user_skills:\n",
    "            matched_skills.add(job_skill)\n",
    "            skill_found = True\n",
    "            continue\n",
    "            \n",
    "        # Check for substring matches\n",
    "        for user_skill in user_skills:\n",
    "            # Check both directions of substring containment\n",
    "            if (job_skill in user_skill) or (user_skill in job_skill):\n",
    "                matched_skills.add(job_skill)\n",
    "                skill_found = True\n",
    "                break\n",
    "                \n",
    "            # Check for common words in multi-word skills\n",
    "            job_words = set(job_skill.split())\n",
    "            user_words = set(user_skill.split())\n",
    "            common_words = job_words.intersection(user_words)\n",
    "            \n",
    "            # If significant word overlap, consider it a match\n",
    "            if len(common_words) / max(len(job_words), len(user_words)) > 0.5:\n",
    "                matched_skills.add(job_skill)\n",
    "                skill_found = True\n",
    "                break\n",
    "        \n",
    "        if not skill_found:\n",
    "            missing_skills.add(job_skill)\n",
    "    \n",
    "    return missing_skills\n",
    "\n",
    "def recommend_jobs(user_skills, top_n=10):\n",
    "    \n",
    "    try:\n",
    "        # Clean user skills\n",
    "        user_skills_set = clean_skills(user_skills)\n",
    "        if not user_skills_set:\n",
    "            raise ValueError(\"No valid user skills found after cleaning\")\n",
    "            \n",
    "        # Create a copy of the dataframe\n",
    "        mod_copy = mod.copy()\n",
    "        \n",
    "        # Clean skills in the dataset\n",
    "        mod_copy[\"Clean_Skills\"] = mod_copy[\"Skills\"].apply(clean_skills)\n",
    "        \n",
    "        # Prepare skills for vectorization\n",
    "        skills_list = [\" \".join(sorted(list(skills))) for skills in mod_copy[\"Clean_Skills\"]]\n",
    "        skills_list.append(\" \".join(sorted(list(user_skills_set))))\n",
    "        \n",
    "        # TF-IDF vectorization\n",
    "        vectorizer = TfidfVectorizer()\n",
    "        tfidf_matrix = vectorizer.fit_transform(skills_list)\n",
    "        \n",
    "        # Calculate similarity\n",
    "        similarity_scores = cosine_similarity(tfidf_matrix[-1], tfidf_matrix[:-1])[0]\n",
    "        \n",
    "        # Get top matches\n",
    "        top_indices = similarity_scores.argsort()[-top_n:][::-1]\n",
    "        \n",
    "        top_jobs = []\n",
    "        for idx in top_indices:\n",
    "            job_skills = mod_copy.iloc[idx][\"Clean_Skills\"]\n",
    "            \n",
    "            # Calculate missing skills using the new function\n",
    "            missing_skills = calculate_skill_gap(job_skills, user_skills_set)\n",
    "            \n",
    "            # Calculate match percentage\n",
    "            total_required = len(job_skills)\n",
    "            if total_required > 0:\n",
    "                missing_count = len(missing_skills)\n",
    "                match_percentage = round(((total_required - missing_count) / total_required) * 100, 1)\n",
    "            else:\n",
    "                match_percentage = 0.0\n",
    "            \n",
    "            job_info = {\n",
    "                \"Job Title\": mod_copy.iloc[idx][\"Job Title\"],\n",
    "                \"Role\": mod_copy.iloc[idx][\"Role\"],\n",
    "                \"Industry\": mod_copy.iloc[idx][\"Industry\"],\n",
    "                \"Required Skills\": sorted(list(job_skills)),\n",
    "                \"Missing Skills\": sorted(list(missing_skills)),\n",
    "                \"Match Percentage\": match_percentage,\n",
    "                \"Similarity Score\": round(similarity_scores[idx], 3)\n",
    "            }\n",
    "            top_jobs.append(job_info)\n",
    "        \n",
    "        return top_jobs\n",
    "    \n",
    "    except Exception as e:\n",
    "        print(f\"Error in job recommendation: {str(e)}\")\n",
    "        return []"
   ]
  },
  {
   "cell_type": "code",
   "execution_count": 27,
   "id": "a6fc7ce4-b003-452c-abff-077e66e56025",
   "metadata": {},
   "outputs": [],
   "source": [
    "def format_recommendations(recommendations):\n",
    "  \n",
    "    if not recommendations:\n",
    "        return \"No matching jobs found.\"\n",
    "        \n",
    "    output = []\n",
    "    for i, job in enumerate(recommendations, 1):\n",
    "        output.extend([\n",
    "            f\"\\n{i}. Job Details:\",\n",
    "            f\"   Title           : {job['Job Title']}\",\n",
    "            f\"   Role            : {job['Role']}\",\n",
    "            f\"   Industry        : {job['Industry']}\",\n",
    "            f\"   Match           : {job['Match Percentage']}%\",\n",
    "            f\"   Required Skills : {', '.join(job['Required Skills'])}\",\n",
    "            f\"   Missing Skills  : {', '.join(job['Missing Skills']) if job['Missing Skills'] else 'None'}\",\n",
    "            \"-\" * 80\n",
    "        ])\n",
    "\n",
    "    \n",
    "    \n",
    "    return \"\\n\".join(output)\n",
    "\n"
   ]
  },
  {
   "cell_type": "code",
   "execution_count": 15,
   "id": "02025cf1-fdd0-41d0-9867-fb367dbd7a6e",
   "metadata": {},
   "outputs": [
    {
     "name": "stdout",
     "output_type": "stream",
     "text": [
      "\n",
      "1. Job Details:\n",
      "   Title           :  Business Analyst - SQL & R - Retail/ecommerce/telecom\n",
      "   Role            : Business Analyst\n",
      "   Industry        : Internet, Ecommerce\n",
      "   Match           : 50.0%\n",
      "   Required Skills : analytics, data analytics, data management, machine learning, sql, statistics\n",
      "   Missing Skills  : analytics, data analytics, data management\n",
      "--------------------------------------------------------------------------------\n",
      "\n",
      "2. Job Details:\n",
      "   Title           :  Trainee-data Scientist\n",
      "   Role            : Trainee\n",
      "   Industry        : IT-Software, Software Services\n",
      "   Match           : 100.0%\n",
      "   Required Skills : machine learning, python\n",
      "   Missing Skills  : None\n",
      "--------------------------------------------------------------------------------\n",
      "\n",
      "3. Job Details:\n",
      "   Title           :  Data Scientist\n",
      "   Role            : Bio-Statistician\n",
      "   Industry        : Banking, Financial Services, Broking\n",
      "   Match           : 44.4%\n",
      "   Required Skills : big data, data quality, data science, data visualization, machine learning, programming, python, sql, statistics\n",
      "   Missing Skills  : big data, data quality, data science, data visualization, programming\n",
      "--------------------------------------------------------------------------------\n",
      "\n",
      "4. Job Details:\n",
      "   Title           :  Senior Consultant - Analytics - Sas/r/python\n",
      "   Role            : Data Analyst\n",
      "   Industry        : Banking, Financial Services, Broking\n",
      "   Match           : 42.9%\n",
      "   Required Skills : analytics, data analytics, data modeling, machine learning, python, sas, statistics\n",
      "   Missing Skills  : analytics, data analytics, data modeling, sas\n",
      "--------------------------------------------------------------------------------\n",
      "\n",
      "5. Job Details:\n",
      "   Title           :  Data Scientist\n",
      "   Role            : Clinical Research Associate/Scientist\n",
      "   Industry        : IT-Software, Software Services\n",
      "   Match           : 40.0%\n",
      "   Required Skills : analytical, business intelligence, data mining, data visualization, machine learning, operations research, python, scala, sql, statistics\n",
      "   Missing Skills  : analytical, business intelligence, data mining, data visualization, operations research, scala\n",
      "--------------------------------------------------------------------------------\n"
     ]
    }
   ],
   "source": [
    "user_input = \"Python, SQL, Machine Learning, Data Analysis, Statistics\"\n",
    "\n",
    "recommendations = recommend_jobs(user_input, top_n=5)\n",
    "print(format_recommendations(recommendations))"
   ]
  },
  {
   "cell_type": "code",
   "execution_count": 16,
   "id": "19b38af6-428e-402d-a523-a350fbdbd446",
   "metadata": {},
   "outputs": [],
   "source": [
    "courses=pd.read_csv(r'coursea_data.csv')\n"
   ]
  },
  {
   "cell_type": "code",
   "execution_count": 17,
   "id": "5939f2bd-5365-4d86-9248-8258e57ccac8",
   "metadata": {},
   "outputs": [
    {
     "data": {
      "text/plain": [
       "(891, 7)"
      ]
     },
     "execution_count": 17,
     "metadata": {},
     "output_type": "execute_result"
    }
   ],
   "source": [
    "courses.shape"
   ]
  },
  {
   "cell_type": "code",
   "execution_count": 20,
   "id": "ce58e82f-5ae6-45e5-8be1-a2182ac093ff",
   "metadata": {},
   "outputs": [
    {
     "data": {
      "text/plain": [
       "Index(['Unnamed: 0', 'course_title', 'course_organization',\n",
       "       'course_Certificate_type', 'course_rating', 'course_difficulty',\n",
       "       'course_students_enrolled'],\n",
       "      dtype='object')"
      ]
     },
     "execution_count": 20,
     "metadata": {},
     "output_type": "execute_result"
    }
   ],
   "source": [
    "courses.columns"
   ]
  },
  {
   "cell_type": "code",
   "execution_count": 23,
   "id": "b064b0bc-8140-4ee6-8945-c2ae7d91f12b",
   "metadata": {},
   "outputs": [
    {
     "data": {
      "text/html": [
       "<div>\n",
       "<style scoped>\n",
       "    .dataframe tbody tr th:only-of-type {\n",
       "        vertical-align: middle;\n",
       "    }\n",
       "\n",
       "    .dataframe tbody tr th {\n",
       "        vertical-align: top;\n",
       "    }\n",
       "\n",
       "    .dataframe thead th {\n",
       "        text-align: right;\n",
       "    }\n",
       "</style>\n",
       "<table border=\"1\" class=\"dataframe\">\n",
       "  <thead>\n",
       "    <tr style=\"text-align: right;\">\n",
       "      <th></th>\n",
       "      <th>Unnamed: 0</th>\n",
       "      <th>course_title</th>\n",
       "      <th>course_organization</th>\n",
       "      <th>course_Certificate_type</th>\n",
       "      <th>course_rating</th>\n",
       "      <th>course_difficulty</th>\n",
       "      <th>course_students_enrolled</th>\n",
       "    </tr>\n",
       "  </thead>\n",
       "  <tbody>\n",
       "    <tr>\n",
       "      <th>0</th>\n",
       "      <td>134</td>\n",
       "      <td>(ISC)² Systems Security Certified Practitioner...</td>\n",
       "      <td>(ISC)²</td>\n",
       "      <td>SPECIALIZATION</td>\n",
       "      <td>4.7</td>\n",
       "      <td>Beginner</td>\n",
       "      <td>5.3k</td>\n",
       "    </tr>\n",
       "    <tr>\n",
       "      <th>1</th>\n",
       "      <td>743</td>\n",
       "      <td>A Crash Course in Causality:  Inferring Causal...</td>\n",
       "      <td>University of Pennsylvania</td>\n",
       "      <td>COURSE</td>\n",
       "      <td>4.7</td>\n",
       "      <td>Intermediate</td>\n",
       "      <td>17k</td>\n",
       "    </tr>\n",
       "    <tr>\n",
       "      <th>2</th>\n",
       "      <td>874</td>\n",
       "      <td>A Crash Course in Data Science</td>\n",
       "      <td>Johns Hopkins University</td>\n",
       "      <td>COURSE</td>\n",
       "      <td>4.5</td>\n",
       "      <td>Mixed</td>\n",
       "      <td>130k</td>\n",
       "    </tr>\n",
       "    <tr>\n",
       "      <th>3</th>\n",
       "      <td>413</td>\n",
       "      <td>A Law Student's Toolkit</td>\n",
       "      <td>Yale University</td>\n",
       "      <td>COURSE</td>\n",
       "      <td>4.7</td>\n",
       "      <td>Mixed</td>\n",
       "      <td>91k</td>\n",
       "    </tr>\n",
       "    <tr>\n",
       "      <th>4</th>\n",
       "      <td>635</td>\n",
       "      <td>A Life of Happiness and Fulfillment</td>\n",
       "      <td>Indian School of Business</td>\n",
       "      <td>COURSE</td>\n",
       "      <td>4.8</td>\n",
       "      <td>Mixed</td>\n",
       "      <td>320k</td>\n",
       "    </tr>\n",
       "  </tbody>\n",
       "</table>\n",
       "</div>"
      ],
      "text/plain": [
       "   Unnamed: 0                                       course_title  \\\n",
       "0         134  (ISC)² Systems Security Certified Practitioner...   \n",
       "1         743  A Crash Course in Causality:  Inferring Causal...   \n",
       "2         874                     A Crash Course in Data Science   \n",
       "3         413                            A Law Student's Toolkit   \n",
       "4         635                A Life of Happiness and Fulfillment   \n",
       "\n",
       "          course_organization course_Certificate_type  course_rating  \\\n",
       "0                      (ISC)²          SPECIALIZATION            4.7   \n",
       "1  University of Pennsylvania                  COURSE            4.7   \n",
       "2    Johns Hopkins University                  COURSE            4.5   \n",
       "3             Yale University                  COURSE            4.7   \n",
       "4   Indian School of Business                  COURSE            4.8   \n",
       "\n",
       "  course_difficulty course_students_enrolled  \n",
       "0          Beginner                     5.3k  \n",
       "1      Intermediate                      17k  \n",
       "2             Mixed                     130k  \n",
       "3             Mixed                      91k  \n",
       "4             Mixed                     320k  "
      ]
     },
     "execution_count": 23,
     "metadata": {},
     "output_type": "execute_result"
    }
   ],
   "source": [
    "courses.head()"
   ]
  },
  {
   "cell_type": "code",
   "execution_count": 29,
   "id": "7a569118-018a-4e24-b845-4c31566f00c0",
   "metadata": {},
   "outputs": [],
   "source": [
    "\n",
    "\n",
    "def recommend_courses(user_skills, df, num_recommendations=5):\n",
    " \n",
    "   \n",
    "    # Clean and prepare the input\n",
    "    user_skills = user_skills.lower().strip()\n",
    "    \n",
    "    # Create TF-IDF vectorizer\n",
    "    tfidf = TfidfVectorizer(stop_words='english')\n",
    "    \n",
    "    # Fit TF-IDF on course titles\n",
    "    course_title_matrix = tfidf.fit_transform(df['course_title'].str.lower())\n",
    "    \n",
    "    # Transform user skills\n",
    "    user_skills_matrix = tfidf.transform([user_skills])\n",
    "    \n",
    "    # Calculate similarity scores\n",
    "    similarity_scores = cosine_similarity(user_skills_matrix, course_title_matrix)\n",
    "    \n",
    "    # Get indices of top recommendations\n",
    "    course_indices = similarity_scores[0].argsort()[-num_recommendations:][::-1]\n",
    "    \n",
    "    # Get recommended courses with their details\n",
    "    recommended_courses = df.iloc[course_indices].copy()\n",
    "    \n",
    "    # Add similarity score to the recommendations\n",
    "    recommended_courses['similarity_score'] = similarity_scores[0][course_indices]\n",
    "    \n",
    "    # Sort by both similarity score and rating\n",
    "    recommended_courses['combined_score'] = (\n",
    "        0.7 * recommended_courses['similarity_score'] + \n",
    "        0.3 * recommended_courses['course_rating']\n",
    "    )\n",
    "    recommended_courses = recommended_courses.sort_values('combined_score', ascending=False)\n",
    "    \n",
    "    # Format the output\n",
    "    output_columns = [\n",
    "        'course_title', 'course_organization', 'course_Certificate_type',\n",
    "        'course_rating', 'course_difficulty', 'course_students_enrolled'\n",
    "    ]\n",
    "    \n",
    "    return recommended_courses[output_columns]\n",
    "\n"
   ]
  },
  {
   "cell_type": "code",
   "execution_count": 26,
   "id": "3f084b8c-f088-4f13-903f-cc5923b1abd1",
   "metadata": {},
   "outputs": [
    {
     "data": {
      "text/html": [
       "<div>\n",
       "<style scoped>\n",
       "    .dataframe tbody tr th:only-of-type {\n",
       "        vertical-align: middle;\n",
       "    }\n",
       "\n",
       "    .dataframe tbody tr th {\n",
       "        vertical-align: top;\n",
       "    }\n",
       "\n",
       "    .dataframe thead th {\n",
       "        text-align: right;\n",
       "    }\n",
       "</style>\n",
       "<table border=\"1\" class=\"dataframe\">\n",
       "  <thead>\n",
       "    <tr style=\"text-align: right;\">\n",
       "      <th></th>\n",
       "      <th>course_title</th>\n",
       "      <th>course_organization</th>\n",
       "      <th>course_Certificate_type</th>\n",
       "      <th>course_rating</th>\n",
       "      <th>course_difficulty</th>\n",
       "      <th>course_students_enrolled</th>\n",
       "    </tr>\n",
       "  </thead>\n",
       "  <tbody>\n",
       "    <tr>\n",
       "      <th>711</th>\n",
       "      <td>SQL for Data Science</td>\n",
       "      <td>University of California, Davis</td>\n",
       "      <td>COURSE</td>\n",
       "      <td>4.6</td>\n",
       "      <td>Beginner</td>\n",
       "      <td>160k</td>\n",
       "    </tr>\n",
       "    <tr>\n",
       "      <th>208</th>\n",
       "      <td>Databases and SQL for Data Science</td>\n",
       "      <td>IBM</td>\n",
       "      <td>COURSE</td>\n",
       "      <td>4.7</td>\n",
       "      <td>Beginner</td>\n",
       "      <td>110k</td>\n",
       "    </tr>\n",
       "    <tr>\n",
       "      <th>610</th>\n",
       "      <td>Modern Big Data Analysis with SQL</td>\n",
       "      <td>Cloudera</td>\n",
       "      <td>SPECIALIZATION</td>\n",
       "      <td>4.8</td>\n",
       "      <td>Beginner</td>\n",
       "      <td>14k</td>\n",
       "    </tr>\n",
       "    <tr>\n",
       "      <th>553</th>\n",
       "      <td>Learn SQL Basics for Data Science</td>\n",
       "      <td>University of California, Davis</td>\n",
       "      <td>SPECIALIZATION</td>\n",
       "      <td>4.6</td>\n",
       "      <td>Beginner</td>\n",
       "      <td>160k</td>\n",
       "    </tr>\n",
       "    <tr>\n",
       "      <th>752</th>\n",
       "      <td>Statistics with Python</td>\n",
       "      <td>University of Michigan</td>\n",
       "      <td>SPECIALIZATION</td>\n",
       "      <td>4.6</td>\n",
       "      <td>Beginner</td>\n",
       "      <td>34k</td>\n",
       "    </tr>\n",
       "  </tbody>\n",
       "</table>\n",
       "</div>"
      ],
      "text/plain": [
       "                           course_title              course_organization  \\\n",
       "711                SQL for Data Science  University of California, Davis   \n",
       "208  Databases and SQL for Data Science                              IBM   \n",
       "610   Modern Big Data Analysis with SQL                         Cloudera   \n",
       "553   Learn SQL Basics for Data Science  University of California, Davis   \n",
       "752              Statistics with Python           University of Michigan   \n",
       "\n",
       "    course_Certificate_type  course_rating course_difficulty  \\\n",
       "711                  COURSE            4.6          Beginner   \n",
       "208                  COURSE            4.7          Beginner   \n",
       "610          SPECIALIZATION            4.8          Beginner   \n",
       "553          SPECIALIZATION            4.6          Beginner   \n",
       "752          SPECIALIZATION            4.6          Beginner   \n",
       "\n",
       "    course_students_enrolled  \n",
       "711                     160k  \n",
       "208                     110k  \n",
       "610                      14k  \n",
       "553                     160k  \n",
       "752                      34k  "
      ]
     },
     "execution_count": 26,
     "metadata": {},
     "output_type": "execute_result"
    }
   ],
   "source": [
    "user_skills=\"Python, Sql\"\n",
    "recommend_courses(user_skills,courses, num_recommendations=5)"
   ]
  },
  {
   "cell_type": "code",
   "execution_count": null,
   "id": "1e06e7e5-be17-4e25-8a46-a5ba16b845dc",
   "metadata": {},
   "outputs": [],
   "source": [
    "#call course recommendation function for all the missing skills\n"
   ]
  }
 ],
 "metadata": {
  "kernelspec": {
   "display_name": "Python 3 (ipykernel)",
   "language": "python",
   "name": "python3"
  },
  "language_info": {
   "codemirror_mode": {
    "name": "ipython",
    "version": 3
   },
   "file_extension": ".py",
   "mimetype": "text/x-python",
   "name": "python",
   "nbconvert_exporter": "python",
   "pygments_lexer": "ipython3",
   "version": "3.12.3"
  }
 },
 "nbformat": 4,
 "nbformat_minor": 5
}
